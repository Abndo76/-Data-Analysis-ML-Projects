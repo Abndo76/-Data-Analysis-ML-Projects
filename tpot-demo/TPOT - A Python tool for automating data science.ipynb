{
 "cells": [
  {
   "attachments": {},
   "cell_type": "markdown",
   "metadata": {},
   "source": [
    "# TPOT: A Python tool for automating data science\n",
    "\n",
    "### Notebook by [Abduulah J. Almukallaf]\n",
    "\n",
    "Please see the [repository README file](https://github.com/Abndo76/Data-Analysis-and-ML-Projects#license) for the licenses and usage terms for the instructional material and code in this notebook. In general, I have licensed this material so that it is as widely useable and shareable as possible.\n",
    "\n",
    "Below are code samples demonstrating why designing machine learning pipelines is difficult, and how TPOT automates that process.\n",
    "\n",
    "## License\n",
    "\n",
    "Please see the [repository README file](https://github.com/rhiever/Data-Analysis-and-Machine-Learning-Projects#license) for the licenses and usage terms for the instructional material and code in this notebook. In general, I have licensed this material so that it is as widely usable and shareable as possible."
   ]
  },
  {
   "attachments": {},
   "cell_type": "markdown",
   "metadata": {},
   "source": [
    "## Why automate data science?\n",
    "\n",
    "### Model hyperparameter tuning is important"
   ]
  },
  {
   "cell_type": "code",
   "execution_count": 1,
   "metadata": {
    "collapsed": false
   },
   "outputs": [
    {
     "data": {
      "text/html": [
       "<div>\n",
       "<table border=\"1\" class=\"dataframe\">\n",
       "  <thead>\n",
       "    <tr style=\"text-align: right;\">\n",
       "      <th></th>\n",
       "      <th>class</th>\n",
       "      <th>1</th>\n",
       "      <th>2</th>\n",
       "      <th>3</th>\n",
       "      <th>4</th>\n",
       "      <th>5</th>\n",
       "      <th>6</th>\n",
       "      <th>7</th>\n",
       "      <th>8</th>\n",
       "      <th>9</th>\n",
       "      <th>...</th>\n",
       "      <th>775</th>\n",
       "      <th>776</th>\n",
       "      <th>777</th>\n",
       "      <th>778</th>\n",
       "      <th>779</th>\n",
       "      <th>780</th>\n",
       "      <th>781</th>\n",
       "      <th>782</th>\n",
       "      <th>783</th>\n",
       "      <th>784</th>\n",
       "    </tr>\n",
       "  </thead>\n",
       "  <tbody>\n",
       "    <tr>\n",
       "      <th>0</th>\n",
       "      <td>7</td>\n",
       "      <td>0</td>\n",
       "      <td>0</td>\n",
       "      <td>0</td>\n",
       "      <td>0</td>\n",
       "      <td>0</td>\n",
       "      <td>0</td>\n",
       "      <td>0</td>\n",
       "      <td>0</td>\n",
       "      <td>0</td>\n",
       "      <td>...</td>\n",
       "      <td>0</td>\n",
       "      <td>0</td>\n",
       "      <td>0</td>\n",
       "      <td>0</td>\n",
       "      <td>0</td>\n",
       "      <td>0</td>\n",
       "      <td>0</td>\n",
       "      <td>0</td>\n",
       "      <td>0</td>\n",
       "      <td>0</td>\n",
       "    </tr>\n",
       "    <tr>\n",
       "      <th>1</th>\n",
       "      <td>2</td>\n",
       "      <td>0</td>\n",
       "      <td>0</td>\n",
       "      <td>0</td>\n",
       "      <td>0</td>\n",
       "      <td>0</td>\n",
       "      <td>0</td>\n",
       "      <td>0</td>\n",
       "      <td>0</td>\n",
       "      <td>0</td>\n",
       "      <td>...</td>\n",
       "      <td>0</td>\n",
       "      <td>0</td>\n",
       "      <td>0</td>\n",
       "      <td>0</td>\n",
       "      <td>0</td>\n",
       "      <td>0</td>\n",
       "      <td>0</td>\n",
       "      <td>0</td>\n",
       "      <td>0</td>\n",
       "      <td>0</td>\n",
       "    </tr>\n",
       "    <tr>\n",
       "      <th>2</th>\n",
       "      <td>1</td>\n",
       "      <td>0</td>\n",
       "      <td>0</td>\n",
       "      <td>0</td>\n",
       "      <td>0</td>\n",
       "      <td>0</td>\n",
       "      <td>0</td>\n",
       "      <td>0</td>\n",
       "      <td>0</td>\n",
       "      <td>0</td>\n",
       "      <td>...</td>\n",
       "      <td>0</td>\n",
       "      <td>0</td>\n",
       "      <td>0</td>\n",
       "      <td>0</td>\n",
       "      <td>0</td>\n",
       "      <td>0</td>\n",
       "      <td>0</td>\n",
       "      <td>0</td>\n",
       "      <td>0</td>\n",
       "      <td>0</td>\n",
       "    </tr>\n",
       "    <tr>\n",
       "      <th>3</th>\n",
       "      <td>0</td>\n",
       "      <td>0</td>\n",
       "      <td>0</td>\n",
       "      <td>0</td>\n",
       "      <td>0</td>\n",
       "      <td>0</td>\n",
       "      <td>0</td>\n",
       "      <td>0</td>\n",
       "      <td>0</td>\n",
       "      <td>0</td>\n",
       "      <td>...</td>\n",
       "      <td>0</td>\n",
       "      <td>0</td>\n",
       "      <td>0</td>\n",
       "      <td>0</td>\n",
       "      <td>0</td>\n",
       "      <td>0</td>\n",
       "      <td>0</td>\n",
       "      <td>0</td>\n",
       "      <td>0</td>\n",
       "      <td>0</td>\n",
       "    </tr>\n",
       "    <tr>\n",
       "      <th>4</th>\n",
       "      <td>4</td>\n",
       "      <td>0</td>\n",
       "      <td>0</td>\n",
       "      <td>0</td>\n",
       "      <td>0</td>\n",
       "      <td>0</td>\n",
       "      <td>0</td>\n",
       "      <td>0</td>\n",
       "      <td>0</td>\n",
       "      <td>0</td>\n",
       "      <td>...</td>\n",
       "      <td>0</td>\n",
       "      <td>0</td>\n",
       "      <td>0</td>\n",
       "      <td>0</td>\n",
       "      <td>0</td>\n",
       "      <td>0</td>\n",
       "      <td>0</td>\n",
       "      <td>0</td>\n",
       "      <td>0</td>\n",
       "      <td>0</td>\n",
       "    </tr>\n",
       "  </tbody>\n",
       "</table>\n",
       "<p>5 rows × 785 columns</p>\n",
       "</div>"
      ],
      "text/plain": [
       "   class  1  2  3  4  5  6  7  8  9 ...   775  776  777  778  779  780  781  \\\n",
       "0      7  0  0  0  0  0  0  0  0  0 ...     0    0    0    0    0    0    0   \n",
       "1      2  0  0  0  0  0  0  0  0  0 ...     0    0    0    0    0    0    0   \n",
       "2      1  0  0  0  0  0  0  0  0  0 ...     0    0    0    0    0    0    0   \n",
       "3      0  0  0  0  0  0  0  0  0  0 ...     0    0    0    0    0    0    0   \n",
       "4      4  0  0  0  0  0  0  0  0  0 ...     0    0    0    0    0    0    0   \n",
       "\n",
       "   782  783  784  \n",
       "0    0    0    0  \n",
       "1    0    0    0  \n",
       "2    0    0    0  \n",
       "3    0    0    0  \n",
       "4    0    0    0  \n",
       "\n",
       "[5 rows x 785 columns]"
      ]
     },
     "execution_count": 1,
     "metadata": {},
     "output_type": "execute_result"
    }
   ],
   "source": [
    "import pandas as pd\n",
    "import numpy as np\n",
    "from sklearn.ensemble import RandomForestClassifier\n",
    "from sklearn.cross_validation import cross_val_score\n",
    "\n",
    "mnist_data = pd.read_csv('https://raw.githubusercontent.com/rhiever/Data-Analysis-and-Machine-Learning-Projects/master/tpot-demo/mnist.csv.gz', sep='\\t', compression='gzip')\n",
    "mnist_data.head()"
   ]
  },
  {
   "cell_type": "code",
   "execution_count": 2,
   "metadata": {
    "collapsed": false
   },
   "outputs": [
    {
     "data": {
      "text/plain": [
       "''"
      ]
     },
     "execution_count": 2,
     "metadata": {},
     "output_type": "execute_result"
    },
    {
     "data": {
      "image/png": "[encoded data removed]",
      "text/plain": [
       "<matplotlib.figure.Figure at 0x11cde0358>"
      ]
     },
     "metadata": {},
     "output_type": "display_data"
    }
   ],
   "source": [
    "%matplotlib inline\n",
    "import matplotlib.pyplot as plt\n",
    "import seaborn as sb\n",
    "\n",
    "plt.figure(figsize=(8, 8))\n",
    "\n",
    "for record_num in range(1, 65):\n",
    "    plt.subplot(8, 8, record_num)\n",
    "    \n",
    "    digit_features = mnist_data.iloc[record_num].drop('class').values\n",
    "    sb.heatmap(digit_features.reshape((28, 28)),\n",
    "               cmap='Greys',\n",
    "               square=True, cbar=False,\n",
    "               xticklabels=[], yticklabels=[])\n",
    "\n",
    "plt.tight_layout()\n",
    ";"
   ]
  },
  {
   "cell_type": "code",
   "execution_count": 3,
   "metadata": {
    "collapsed": false
   },
   "outputs": [
    {
     "name": "stdout",
     "output_type": "stream",
     "text": [
      "[ 0.9420414   0.9620217   0.94888635  0.94000857  0.95071429  0.94427775\n",
      "  0.94955702  0.94240389  0.93467696  0.95554603]\n",
      "0.947013394966\n"
     ]
    }
   ],
   "source": [
    "cv_scores = cross_val_score(RandomForestClassifier(n_estimators=10, n_jobs=-1),\n",
    "                            X=mnist_data.drop('class', axis=1).values,\n",
    "                            y=mnist_data.loc[:, 'class'].values,\n",
    "                            cv=10)\n",
    "\n",
    "print(cv_scores)\n",
    "print(np.mean(cv_scores))"
   ]
  },
  {
   "cell_type": "code",
   "execution_count": 4,
   "metadata": {
    "collapsed": false
   },
   "outputs": [
    {
     "name": "stdout",
     "output_type": "stream",
     "text": [
      "[ 0.96445396  0.97829812  0.97015991  0.96629053  0.96828571  0.96170882\n",
      "  0.97084881  0.96698585  0.96483705  0.97641509]\n",
      "0.968828385431\n"
     ]
    }
   ],
   "source": [
    "cv_scores = cross_val_score(RandomForestClassifier(n_estimators=100, n_jobs=-1),\n",
    "                            X=mnist_data.drop('class', axis=1).values,\n",
    "                            y=mnist_data.loc[:, 'class'].values,\n",
    "                            cv=10)\n",
    "\n",
    "print(cv_scores)\n",
    "print(np.mean(cv_scores))"
   ]
  },
  {
   "attachments": {},
   "cell_type": "markdown",
   "metadata": {},
   "source": [
    "### Model selection is important"
   ]
  },
  {
   "cell_type": "code",
   "execution_count": 5,
   "metadata": {
    "collapsed": false
   },
   "outputs": [
    {
     "data": {
      "text/html": [
       "<div>\n",
       "<table border=\"1\" class=\"dataframe\">\n",
       "  <thead>\n",
       "    <tr style=\"text-align: right;\">\n",
       "      <th></th>\n",
       "      <th>X1</th>\n",
       "      <th>X2</th>\n",
       "      <th>X3</th>\n",
       "      <th>X4</th>\n",
       "      <th>X5</th>\n",
       "      <th>X6</th>\n",
       "      <th>X7</th>\n",
       "      <th>X8</th>\n",
       "      <th>X9</th>\n",
       "      <th>X10</th>\n",
       "      <th>...</th>\n",
       "      <th>X92</th>\n",
       "      <th>X93</th>\n",
       "      <th>X94</th>\n",
       "      <th>X95</th>\n",
       "      <th>X96</th>\n",
       "      <th>X97</th>\n",
       "      <th>X98</th>\n",
       "      <th>X99</th>\n",
       "      <th>X100</th>\n",
       "      <th>class</th>\n",
       "    </tr>\n",
       "  </thead>\n",
       "  <tbody>\n",
       "    <tr>\n",
       "      <th>0</th>\n",
       "      <td>1317.265789</td>\n",
       "      <td>1315.220951</td>\n",
       "      <td>1312.770581</td>\n",
       "      <td>1309.834252</td>\n",
       "      <td>1306.315588</td>\n",
       "      <td>1302.099102</td>\n",
       "      <td>1297.046401</td>\n",
       "      <td>1290.991646</td>\n",
       "      <td>1283.736109</td>\n",
       "      <td>1275.041652</td>\n",
       "      <td>...</td>\n",
       "      <td>1327.575109</td>\n",
       "      <td>1327.575350</td>\n",
       "      <td>1327.575552</td>\n",
       "      <td>1327.575719</td>\n",
       "      <td>1327.575859</td>\n",
       "      <td>1327.575976</td>\n",
       "      <td>1327.576074</td>\n",
       "      <td>1327.576155</td>\n",
       "      <td>1327.576223</td>\n",
       "      <td>0</td>\n",
       "    </tr>\n",
       "    <tr>\n",
       "      <th>1</th>\n",
       "      <td>7329.967624</td>\n",
       "      <td>7379.907443</td>\n",
       "      <td>7441.799231</td>\n",
       "      <td>7518.503422</td>\n",
       "      <td>7613.565031</td>\n",
       "      <td>7731.377492</td>\n",
       "      <td>7877.385707</td>\n",
       "      <td>8058.337694</td>\n",
       "      <td>8282.596458</td>\n",
       "      <td>8560.526497</td>\n",
       "      <td>...</td>\n",
       "      <td>7121.300474</td>\n",
       "      <td>7121.300438</td>\n",
       "      <td>7121.300410</td>\n",
       "      <td>7121.300387</td>\n",
       "      <td>7121.300368</td>\n",
       "      <td>7121.300353</td>\n",
       "      <td>7121.300341</td>\n",
       "      <td>7121.300331</td>\n",
       "      <td>7121.300323</td>\n",
       "      <td>1</td>\n",
       "    </tr>\n",
       "    <tr>\n",
       "      <th>2</th>\n",
       "      <td>809.421410</td>\n",
       "      <td>809.780119</td>\n",
       "      <td>810.207191</td>\n",
       "      <td>810.715653</td>\n",
       "      <td>811.321016</td>\n",
       "      <td>812.041748</td>\n",
       "      <td>812.899834</td>\n",
       "      <td>813.921452</td>\n",
       "      <td>815.137768</td>\n",
       "      <td>816.585886</td>\n",
       "      <td>...</td>\n",
       "      <td>807.545134</td>\n",
       "      <td>807.544181</td>\n",
       "      <td>807.543381</td>\n",
       "      <td>807.542709</td>\n",
       "      <td>807.542144</td>\n",
       "      <td>807.541670</td>\n",
       "      <td>807.541272</td>\n",
       "      <td>807.540937</td>\n",
       "      <td>807.540656</td>\n",
       "      <td>1</td>\n",
       "    </tr>\n",
       "    <tr>\n",
       "      <th>3</th>\n",
       "      <td>45334.208880</td>\n",
       "      <td>45334.213560</td>\n",
       "      <td>45334.219060</td>\n",
       "      <td>45334.225500</td>\n",
       "      <td>45334.233050</td>\n",
       "      <td>45334.241910</td>\n",
       "      <td>45334.252300</td>\n",
       "      <td>45334.264480</td>\n",
       "      <td>45334.278760</td>\n",
       "      <td>45334.295520</td>\n",
       "      <td>...</td>\n",
       "      <td>47550.921710</td>\n",
       "      <td>47224.457710</td>\n",
       "      <td>46946.072760</td>\n",
       "      <td>46708.686150</td>\n",
       "      <td>46506.259970</td>\n",
       "      <td>46333.645520</td>\n",
       "      <td>46186.452370</td>\n",
       "      <td>46060.936670</td>\n",
       "      <td>45953.905930</td>\n",
       "      <td>1</td>\n",
       "    </tr>\n",
       "    <tr>\n",
       "      <th>4</th>\n",
       "      <td>1.810359</td>\n",
       "      <td>1.810359</td>\n",
       "      <td>1.810359</td>\n",
       "      <td>1.810359</td>\n",
       "      <td>1.810359</td>\n",
       "      <td>1.810359</td>\n",
       "      <td>1.810359</td>\n",
       "      <td>1.810359</td>\n",
       "      <td>1.810359</td>\n",
       "      <td>1.810359</td>\n",
       "      <td>...</td>\n",
       "      <td>1.790275</td>\n",
       "      <td>1.794794</td>\n",
       "      <td>1.798296</td>\n",
       "      <td>1.801010</td>\n",
       "      <td>1.803114</td>\n",
       "      <td>1.804744</td>\n",
       "      <td>1.806008</td>\n",
       "      <td>1.806987</td>\n",
       "      <td>1.807746</td>\n",
       "      <td>0</td>\n",
       "    </tr>\n",
       "  </tbody>\n",
       "</table>\n",
       "<p>5 rows × 101 columns</p>\n",
       "</div>"
      ],
      "text/plain": [
       "             X1            X2            X3            X4            X5  \\\n",
       "0   1317.265789   1315.220951   1312.770581   1309.834252   1306.315588   \n",
       "1   7329.967624   7379.907443   7441.799231   7518.503422   7613.565031   \n",
       "2    809.421410    809.780119    810.207191    810.715653    811.321016   \n",
       "3  45334.208880  45334.213560  45334.219060  45334.225500  45334.233050   \n",
       "4      1.810359      1.810359      1.810359      1.810359      1.810359   \n",
       "\n",
       "             X6            X7            X8            X9           X10  \\\n",
       "0   1302.099102   1297.046401   1290.991646   1283.736109   1275.041652   \n",
       "1   7731.377492   7877.385707   8058.337694   8282.596458   8560.526497   \n",
       "2    812.041748    812.899834    813.921452    815.137768    816.585886   \n",
       "3  45334.241910  45334.252300  45334.264480  45334.278760  45334.295520   \n",
       "4      1.810359      1.810359      1.810359      1.810359      1.810359   \n",
       "\n",
       "   ...             X92           X93           X94           X95  \\\n",
       "0  ...     1327.575109   1327.575350   1327.575552   1327.575719   \n",
       "1  ...     7121.300474   7121.300438   7121.300410   7121.300387   \n",
       "2  ...      807.545134    807.544181    807.543381    807.542709   \n",
       "3  ...    47550.921710  47224.457710  46946.072760  46708.686150   \n",
       "4  ...        1.790275      1.794794      1.798296      1.801010   \n",
       "\n",
       "            X96           X97           X98           X99          X100  class  \n",
       "0   1327.575859   1327.575976   1327.576074   1327.576155   1327.576223      0  \n",
       "1   7121.300368   7121.300353   7121.300341   7121.300331   7121.300323      1  \n",
       "2    807.542144    807.541670    807.541272    807.540937    807.540656      1  \n",
       "3  46506.259970  46333.645520  46186.452370  46060.936670  45953.905930      1  \n",
       "4      1.803114      1.804744      1.806008      1.806987      1.807746      0  \n",
       "\n",
       "[5 rows x 101 columns]"
      ]
     },
     "execution_count": 5,
     "metadata": {},
     "output_type": "execute_result"
    }
   ],
   "source": [
    "import pandas as pd\n",
    "import numpy as np\n",
    "from sklearn.ensemble import RandomForestClassifier\n",
    "from sklearn.linear_model import LogisticRegression\n",
    "from sklearn.cross_validation import cross_val_score\n",
    "\n",
    "hill_valley_data = pd.read_csv('https://raw.githubusercontent.com/rhiever/Data-Analysis-and-Machine-Learning-Projects/master/tpot-demo/Hill_Valley_without_noise.csv.gz', sep='\\t', compression='gzip')\n",
    "hill_valley_data.head()"
   ]
  },
  {
   "cell_type": "code",
   "execution_count": 6,
   "metadata": {
    "collapsed": false
   },
   "outputs": [
    {
     "data": {
      "text/plain": [
       "''"
      ]
     },
     "execution_count": 6,
     "metadata": {},
     "output_type": "execute_result"
    },
    {
     "data": {
      "image/png": "[encoded data removed]",
      "text/plain": [
       "<matplotlib.figure.Figure at 0x11d1bc240>"
      ]
     },
     "metadata": {},
     "output_type": "display_data"
    }
   ],
   "source": [
    "%matplotlib inline\n",
    "import matplotlib.pyplot as plt\n",
    "import seaborn as sb\n",
    "\n",
    "with plt.style.context('seaborn-notebook'):\n",
    "    plt.figure(figsize=(6, 6))\n",
    "    for record_num in range(1, 11):\n",
    "        plt.subplot(10, 1, record_num)\n",
    "        hv_record_features = hill_valley_data.loc[record_num].drop('class').values\n",
    "        plt.plot(hv_record_features)\n",
    "        plt.yticks([])\n",
    "        plt.xticks([])\n",
    "\n",
    "    plt.tight_layout()\n",
    ";"
   ]
  },
  {
   "cell_type": "code",
   "execution_count": 7,
   "metadata": {
    "collapsed": false
   },
   "outputs": [
    {
     "name": "stdout",
     "output_type": "stream",
     "text": [
      "[ 0.6147541   0.63934426  0.62809917  0.60330579  0.6446281   0.5785124\n",
      "  0.66942149  0.55371901  0.49586777  0.66115702]\n",
      "0.608880910446\n"
     ]
    }
   ],
   "source": [
    "cv_scores = cross_val_score(RandomForestClassifier(n_estimators=100, n_jobs=-1),\n",
    "                            X=hill_valley_data.drop('class', axis=1).values,\n",
    "                            y=hill_valley_data.loc[:, 'class'].values,\n",
    "                            cv=10)\n",
    "\n",
    "print(cv_scores)\n",
    "print(np.mean(cv_scores))"
   ]
  },
  {
   "cell_type": "code",
   "execution_count": 8,
   "metadata": {
    "collapsed": false
   },
   "outputs": [
    {
     "name": "stdout",
     "output_type": "stream",
     "text": [
      "[ 1.          1.          0.99173554  1.          1.          1.          1.\n",
      "  0.99173554  1.          1.        ]\n",
      "0.998347107438\n"
     ]
    }
   ],
   "source": [
    "cv_scores = cross_val_score(LogisticRegression(),\n",
    "                            X=hill_valley_data.drop('class', axis=1).values,\n",
    "                            y=hill_valley_data.loc[:, 'class'].values,\n",
    "                            cv=10)\n",
    "\n",
    "print(cv_scores)\n",
    "print(np.mean(cv_scores))"
   ]
  },
  {
   "attachments": {},
   "cell_type": "markdown",
   "metadata": {},
   "source": [
    "### Feature preprocessing is important"
   ]
  },
  {
   "cell_type": "code",
   "execution_count": 9,
   "metadata": {
    "collapsed": false
   },
   "outputs": [
    {
     "data": {
      "text/html": [
       "<div>\n",
       "<table border=\"1\" class=\"dataframe\">\n",
       "  <thead>\n",
       "    <tr style=\"text-align: right;\">\n",
       "      <th></th>\n",
       "      <th>X1</th>\n",
       "      <th>X2</th>\n",
       "      <th>X3</th>\n",
       "      <th>X4</th>\n",
       "      <th>X5</th>\n",
       "      <th>X6</th>\n",
       "      <th>X7</th>\n",
       "      <th>X8</th>\n",
       "      <th>X9</th>\n",
       "      <th>X10</th>\n",
       "      <th>...</th>\n",
       "      <th>X92</th>\n",
       "      <th>X93</th>\n",
       "      <th>X94</th>\n",
       "      <th>X95</th>\n",
       "      <th>X96</th>\n",
       "      <th>X97</th>\n",
       "      <th>X98</th>\n",
       "      <th>X99</th>\n",
       "      <th>X100</th>\n",
       "      <th>class</th>\n",
       "    </tr>\n",
       "  </thead>\n",
       "  <tbody>\n",
       "    <tr>\n",
       "      <th>0</th>\n",
       "      <td>39.02</td>\n",
       "      <td>36.49</td>\n",
       "      <td>38.20</td>\n",
       "      <td>38.85</td>\n",
       "      <td>39.38</td>\n",
       "      <td>39.74</td>\n",
       "      <td>37.02</td>\n",
       "      <td>39.53</td>\n",
       "      <td>38.81</td>\n",
       "      <td>38.79</td>\n",
       "      <td>...</td>\n",
       "      <td>36.62</td>\n",
       "      <td>36.92</td>\n",
       "      <td>38.80</td>\n",
       "      <td>38.52</td>\n",
       "      <td>38.07</td>\n",
       "      <td>36.73</td>\n",
       "      <td>39.46</td>\n",
       "      <td>37.50</td>\n",
       "      <td>39.10</td>\n",
       "      <td>0</td>\n",
       "    </tr>\n",
       "    <tr>\n",
       "      <th>1</th>\n",
       "      <td>1.83</td>\n",
       "      <td>1.71</td>\n",
       "      <td>1.77</td>\n",
       "      <td>1.77</td>\n",
       "      <td>1.68</td>\n",
       "      <td>1.78</td>\n",
       "      <td>1.80</td>\n",
       "      <td>1.70</td>\n",
       "      <td>1.75</td>\n",
       "      <td>1.78</td>\n",
       "      <td>...</td>\n",
       "      <td>1.80</td>\n",
       "      <td>1.79</td>\n",
       "      <td>1.77</td>\n",
       "      <td>1.74</td>\n",
       "      <td>1.74</td>\n",
       "      <td>1.80</td>\n",
       "      <td>1.78</td>\n",
       "      <td>1.75</td>\n",
       "      <td>1.69</td>\n",
       "      <td>1</td>\n",
       "    </tr>\n",
       "    <tr>\n",
       "      <th>2</th>\n",
       "      <td>68177.69</td>\n",
       "      <td>66138.42</td>\n",
       "      <td>72981.88</td>\n",
       "      <td>74304.33</td>\n",
       "      <td>67549.66</td>\n",
       "      <td>69367.34</td>\n",
       "      <td>69169.41</td>\n",
       "      <td>73268.61</td>\n",
       "      <td>74465.84</td>\n",
       "      <td>72503.37</td>\n",
       "      <td>...</td>\n",
       "      <td>73438.88</td>\n",
       "      <td>71053.35</td>\n",
       "      <td>71112.62</td>\n",
       "      <td>74916.48</td>\n",
       "      <td>72571.58</td>\n",
       "      <td>66348.97</td>\n",
       "      <td>71063.72</td>\n",
       "      <td>67404.27</td>\n",
       "      <td>74920.24</td>\n",
       "      <td>1</td>\n",
       "    </tr>\n",
       "    <tr>\n",
       "      <th>3</th>\n",
       "      <td>44889.06</td>\n",
       "      <td>39191.86</td>\n",
       "      <td>40728.46</td>\n",
       "      <td>38576.36</td>\n",
       "      <td>45876.06</td>\n",
       "      <td>47034.00</td>\n",
       "      <td>46611.43</td>\n",
       "      <td>37668.32</td>\n",
       "      <td>40980.89</td>\n",
       "      <td>38466.15</td>\n",
       "      <td>...</td>\n",
       "      <td>42625.67</td>\n",
       "      <td>40684.20</td>\n",
       "      <td>46960.73</td>\n",
       "      <td>44546.80</td>\n",
       "      <td>45410.53</td>\n",
       "      <td>47139.44</td>\n",
       "      <td>43095.68</td>\n",
       "      <td>40888.34</td>\n",
       "      <td>39615.19</td>\n",
       "      <td>0</td>\n",
       "    </tr>\n",
       "    <tr>\n",
       "      <th>4</th>\n",
       "      <td>5.70</td>\n",
       "      <td>5.40</td>\n",
       "      <td>5.28</td>\n",
       "      <td>5.38</td>\n",
       "      <td>5.27</td>\n",
       "      <td>5.61</td>\n",
       "      <td>6.00</td>\n",
       "      <td>5.38</td>\n",
       "      <td>5.34</td>\n",
       "      <td>5.87</td>\n",
       "      <td>...</td>\n",
       "      <td>5.17</td>\n",
       "      <td>5.67</td>\n",
       "      <td>5.60</td>\n",
       "      <td>5.94</td>\n",
       "      <td>5.73</td>\n",
       "      <td>5.22</td>\n",
       "      <td>5.30</td>\n",
       "      <td>5.73</td>\n",
       "      <td>5.91</td>\n",
       "      <td>0</td>\n",
       "    </tr>\n",
       "  </tbody>\n",
       "</table>\n",
       "<p>5 rows × 101 columns</p>\n",
       "</div>"
      ],
      "text/plain": [
       "         X1        X2        X3        X4        X5        X6        X7  \\\n",
       "0     39.02     36.49     38.20     38.85     39.38     39.74     37.02   \n",
       "1      1.83      1.71      1.77      1.77      1.68      1.78      1.80   \n",
       "2  68177.69  66138.42  72981.88  74304.33  67549.66  69367.34  69169.41   \n",
       "3  44889.06  39191.86  40728.46  38576.36  45876.06  47034.00  46611.43   \n",
       "4      5.70      5.40      5.28      5.38      5.27      5.61      6.00   \n",
       "\n",
       "         X8        X9       X10  ...         X92       X93       X94  \\\n",
       "0     39.53     38.81     38.79  ...       36.62     36.92     38.80   \n",
       "1      1.70      1.75      1.78  ...        1.80      1.79      1.77   \n",
       "2  73268.61  74465.84  72503.37  ...    73438.88  71053.35  71112.62   \n",
       "3  37668.32  40980.89  38466.15  ...    42625.67  40684.20  46960.73   \n",
       "4      5.38      5.34      5.87  ...        5.17      5.67      5.60   \n",
       "\n",
       "        X95       X96       X97       X98       X99      X100  class  \n",
       "0     38.52     38.07     36.73     39.46     37.50     39.10      0  \n",
       "1      1.74      1.74      1.80      1.78      1.75      1.69      1  \n",
       "2  74916.48  72571.58  66348.97  71063.72  67404.27  74920.24      1  \n",
       "3  44546.80  45410.53  47139.44  43095.68  40888.34  39615.19      0  \n",
       "4      5.94      5.73      5.22      5.30      5.73      5.91      0  \n",
       "\n",
       "[5 rows x 101 columns]"
      ]
     },
     "execution_count": 9,
     "metadata": {},
     "output_type": "execute_result"
    }
   ],
   "source": [
    "import pandas as pd\n",
    "import numpy as np\n",
    "from sklearn.ensemble import RandomForestClassifier\n",
    "from sklearn.decomposition import PCA\n",
    "from sklearn.pipeline import make_pipeline\n",
    "from sklearn.cross_validation import cross_val_score\n",
    "\n",
    "hill_valley_noisy_data = pd.read_csv('https://raw.githubusercontent.com/rhiever/Data-Analysis-and-Machine-Learning-Projects/master/tpot-demo/Hill_Valley_with_noise.csv.gz', sep='\\t', compression='gzip')\n",
    "hill_valley_noisy_data.head()"
   ]
  },
  {
   "cell_type": "code",
   "execution_count": 10,
   "metadata": {
    "collapsed": false
   },
   "outputs": [
    {
     "data": {
      "text/plain": [
       "''"
      ]
     },
     "execution_count": 10,
     "metadata": {},
     "output_type": "execute_result"
    },
    {
     "data": {
      "image/png": "[encoded data removed]",
      "text/plain": [
       "<matplotlib.figure.Figure at 0x11ce6ecf8>"
      ]
     },
     "metadata": {},
     "output_type": "display_data"
    }
   ],
   "source": [
    "%matplotlib inline\n",
    "import matplotlib.pyplot as plt\n",
    "import seaborn as sb\n",
    "\n",
    "with plt.style.context('seaborn-notebook'):\n",
    "    plt.figure(figsize=(6, 6))\n",
    "    for record_num in range(1, 11):\n",
    "        plt.subplot(10, 1, record_num)\n",
    "        hv_noisy_record_features = hill_valley_noisy_data.loc[record_num].drop('class').values\n",
    "        plt.plot(hv_noisy_record_features)\n",
    "        plt.yticks([])\n",
    "        plt.xticks([])\n",
    "\n",
    "    plt.tight_layout()\n",
    ";"
   ]
  },
  {
   "cell_type": "code",
   "execution_count": 11,
   "metadata": {
    "collapsed": false
   },
   "outputs": [
    {
     "name": "stdout",
     "output_type": "stream",
     "text": [
      "[ 0.53278689  0.53278689  0.55737705  0.59016393  0.62295082  0.55737705\n",
      "  0.58333333  0.55833333  0.6         0.56666667]\n",
      "0.570177595628\n"
     ]
    }
   ],
   "source": [
    "cv_scores = cross_val_score(RandomForestClassifier(n_estimators=100, n_jobs=-1),\n",
    "                            X=hill_valley_noisy_data.drop('class', axis=1).values,\n",
    "                            y=hill_valley_noisy_data.loc[:, 'class'].values,\n",
    "                            cv=10)\n",
    "\n",
    "print(cv_scores)\n",
    "print(np.mean(cv_scores))"
   ]
  },
  {
   "cell_type": "code",
   "execution_count": 12,
   "metadata": {
    "collapsed": false
   },
   "outputs": [
    {
     "name": "stdout",
     "output_type": "stream",
     "text": [
      "[ 0.95901639  0.98360656  0.87704918  0.98360656  0.92622951  0.93442623\n",
      "  0.90833333  0.925       0.95833333  0.96666667]\n",
      "0.942226775956\n"
     ]
    }
   ],
   "source": [
    "cv_scores = cross_val_score(make_pipeline(PCA(n_components=10), RandomForestClassifier(n_estimators=100, n_jobs=-1)),\n",
    "                            X=hill_valley_noisy_data.drop('class', axis=1).values,\n",
    "                            y=hill_valley_noisy_data.loc[:, 'class'].values,\n",
    "                            cv=10)\n",
    "\n",
    "print(cv_scores)\n",
    "print(np.mean(cv_scores))"
   ]
  },
  {
   "attachments": {},
   "cell_type": "markdown",
   "metadata": {},
   "source": [
    "# Automating data science with TPOT"
   ]
  },
  {
   "cell_type": "code",
   "execution_count": 13,
   "metadata": {
    "collapsed": false
   },
   "outputs": [
    {
     "data": {
      "text/html": [
       "<div>\n",
       "<table border=\"1\" class=\"dataframe\">\n",
       "  <thead>\n",
       "    <tr style=\"text-align: right;\">\n",
       "      <th></th>\n",
       "      <th>X1</th>\n",
       "      <th>X2</th>\n",
       "      <th>X3</th>\n",
       "      <th>X4</th>\n",
       "      <th>X5</th>\n",
       "      <th>X6</th>\n",
       "      <th>X7</th>\n",
       "      <th>X8</th>\n",
       "      <th>X9</th>\n",
       "      <th>X10</th>\n",
       "      <th>...</th>\n",
       "      <th>X92</th>\n",
       "      <th>X93</th>\n",
       "      <th>X94</th>\n",
       "      <th>X95</th>\n",
       "      <th>X96</th>\n",
       "      <th>X97</th>\n",
       "      <th>X98</th>\n",
       "      <th>X99</th>\n",
       "      <th>X100</th>\n",
       "      <th>class</th>\n",
       "    </tr>\n",
       "  </thead>\n",
       "  <tbody>\n",
       "    <tr>\n",
       "      <th>0</th>\n",
       "      <td>39.02</td>\n",
       "      <td>36.49</td>\n",
       "      <td>38.20</td>\n",
       "      <td>38.85</td>\n",
       "      <td>39.38</td>\n",
       "      <td>39.74</td>\n",
       "      <td>37.02</td>\n",
       "      <td>39.53</td>\n",
       "      <td>38.81</td>\n",
       "      <td>38.79</td>\n",
       "      <td>...</td>\n",
       "      <td>36.62</td>\n",
       "      <td>36.92</td>\n",
       "      <td>38.80</td>\n",
       "      <td>38.52</td>\n",
       "      <td>38.07</td>\n",
       "      <td>36.73</td>\n",
       "      <td>39.46</td>\n",
       "      <td>37.50</td>\n",
       "      <td>39.10</td>\n",
       "      <td>0</td>\n",
       "    </tr>\n",
       "    <tr>\n",
       "      <th>1</th>\n",
       "      <td>1.83</td>\n",
       "      <td>1.71</td>\n",
       "      <td>1.77</td>\n",
       "      <td>1.77</td>\n",
       "      <td>1.68</td>\n",
       "      <td>1.78</td>\n",
       "      <td>1.80</td>\n",
       "      <td>1.70</td>\n",
       "      <td>1.75</td>\n",
       "      <td>1.78</td>\n",
       "      <td>...</td>\n",
       "      <td>1.80</td>\n",
       "      <td>1.79</td>\n",
       "      <td>1.77</td>\n",
       "      <td>1.74</td>\n",
       "      <td>1.74</td>\n",
       "      <td>1.80</td>\n",
       "      <td>1.78</td>\n",
       "      <td>1.75</td>\n",
       "      <td>1.69</td>\n",
       "      <td>1</td>\n",
       "    </tr>\n",
       "    <tr>\n",
       "      <th>2</th>\n",
       "      <td>68177.69</td>\n",
       "      <td>66138.42</td>\n",
       "      <td>72981.88</td>\n",
       "      <td>74304.33</td>\n",
       "      <td>67549.66</td>\n",
       "      <td>69367.34</td>\n",
       "      <td>69169.41</td>\n",
       "      <td>73268.61</td>\n",
       "      <td>74465.84</td>\n",
       "      <td>72503.37</td>\n",
       "      <td>...</td>\n",
       "      <td>73438.88</td>\n",
       "      <td>71053.35</td>\n",
       "      <td>71112.62</td>\n",
       "      <td>74916.48</td>\n",
       "      <td>72571.58</td>\n",
       "      <td>66348.97</td>\n",
       "      <td>71063.72</td>\n",
       "      <td>67404.27</td>\n",
       "      <td>74920.24</td>\n",
       "      <td>1</td>\n",
       "    </tr>\n",
       "    <tr>\n",
       "      <th>3</th>\n",
       "      <td>44889.06</td>\n",
       "      <td>39191.86</td>\n",
       "      <td>40728.46</td>\n",
       "      <td>38576.36</td>\n",
       "      <td>45876.06</td>\n",
       "      <td>47034.00</td>\n",
       "      <td>46611.43</td>\n",
       "      <td>37668.32</td>\n",
       "      <td>40980.89</td>\n",
       "      <td>38466.15</td>\n",
       "      <td>...</td>\n",
       "      <td>42625.67</td>\n",
       "      <td>40684.20</td>\n",
       "      <td>46960.73</td>\n",
       "      <td>44546.80</td>\n",
       "      <td>45410.53</td>\n",
       "      <td>47139.44</td>\n",
       "      <td>43095.68</td>\n",
       "      <td>40888.34</td>\n",
       "      <td>39615.19</td>\n",
       "      <td>0</td>\n",
       "    </tr>\n",
       "    <tr>\n",
       "      <th>4</th>\n",
       "      <td>5.70</td>\n",
       "      <td>5.40</td>\n",
       "      <td>5.28</td>\n",
       "      <td>5.38</td>\n",
       "      <td>5.27</td>\n",
       "      <td>5.61</td>\n",
       "      <td>6.00</td>\n",
       "      <td>5.38</td>\n",
       "      <td>5.34</td>\n",
       "      <td>5.87</td>\n",
       "      <td>...</td>\n",
       "      <td>5.17</td>\n",
       "      <td>5.67</td>\n",
       "      <td>5.60</td>\n",
       "      <td>5.94</td>\n",
       "      <td>5.73</td>\n",
       "      <td>5.22</td>\n",
       "      <td>5.30</td>\n",
       "      <td>5.73</td>\n",
       "      <td>5.91</td>\n",
       "      <td>0</td>\n",
       "    </tr>\n",
       "  </tbody>\n",
       "</table>\n",
       "<p>5 rows × 101 columns</p>\n",
       "</div>"
      ],
      "text/plain": [
       "         X1        X2        X3        X4        X5        X6        X7  \\\n",
       "0     39.02     36.49     38.20     38.85     39.38     39.74     37.02   \n",
       "1      1.83      1.71      1.77      1.77      1.68      1.78      1.80   \n",
       "2  68177.69  66138.42  72981.88  74304.33  67549.66  69367.34  69169.41   \n",
       "3  44889.06  39191.86  40728.46  38576.36  45876.06  47034.00  46611.43   \n",
       "4      5.70      5.40      5.28      5.38      5.27      5.61      6.00   \n",
       "\n",
       "         X8        X9       X10  ...         X92       X93       X94  \\\n",
       "0     39.53     38.81     38.79  ...       36.62     36.92     38.80   \n",
       "1      1.70      1.75      1.78  ...        1.80      1.79      1.77   \n",
       "2  73268.61  74465.84  72503.37  ...    73438.88  71053.35  71112.62   \n",
       "3  37668.32  40980.89  38466.15  ...    42625.67  40684.20  46960.73   \n",
       "4      5.38      5.34      5.87  ...        5.17      5.67      5.60   \n",
       "\n",
       "        X95       X96       X97       X98       X99      X100  class  \n",
       "0     38.52     38.07     36.73     39.46     37.50     39.10      0  \n",
       "1      1.74      1.74      1.80      1.78      1.75      1.69      1  \n",
       "2  74916.48  72571.58  66348.97  71063.72  67404.27  74920.24      1  \n",
       "3  44546.80  45410.53  47139.44  43095.68  40888.34  39615.19      0  \n",
       "4      5.94      5.73      5.22      5.30      5.73      5.91      0  \n",
       "\n",
       "[5 rows x 101 columns]"
      ]
     },
     "execution_count": 13,
     "metadata": {},
     "output_type": "execute_result"
    }
   ],
   "source": [
    "import pandas as pd\n",
    "from sklearn.cross_validation import train_test_split\n",
    "from tpot import TPOTClassifier\n",
    "\n",
    "hill_valley_noisy_data = pd.read_csv('https://raw.githubusercontent.com/rhiever/Data-Analysis-and-Machine-Learning-Projects/master/tpot-demo/Hill_Valley_with_noise.csv.gz', sep='\\t', compression='gzip')\n",
    "hill_valley_noisy_data.head()"
   ]
  },
  {
   "cell_type": "code",
   "execution_count": 14,
   "metadata": {
    "collapsed": false
   },
   "outputs": [
    {
     "name": "stderr",
     "output_type": "stream",
     "text": [
      "GP Progress:   9%|▉         | 100/1100 [00:00<36:47,  2.21s/pipeline]"
     ]
    },
    {
     "name": "stdout",
     "output_type": "stream",
     "text": [
      "Generation 1 - Current best internal CV score: 0.9472727662812096\n"
     ]
    },
    {
     "name": "stderr",
     "output_type": "stream",
     "text": [
      "GP Progress:  18%|█▊        | 201/1100 [07:15<50:37,  3.38s/pipeline]  "
     ]
    },
    {
     "name": "stdout",
     "output_type": "stream",
     "text": [
      "Generation 2 - Current best internal CV score: 0.9495601844270386\n"
     ]
    },
    {
     "name": "stderr",
     "output_type": "stream",
     "text": [
      "GP Progress:  27%|██▋       | 301/1100 [08:12<04:03,  3.29pipeline/s]"
     ]
    },
    {
     "name": "stdout",
     "output_type": "stream",
     "text": [
      "Generation 3 - Current best internal CV score: 0.9495601844270386\n"
     ]
    },
    {
     "name": "stderr",
     "output_type": "stream",
     "text": [
      "GP Progress:  36%|███▋      | 401/1100 [09:28<05:49,  2.00pipeline/s]"
     ]
    },
    {
     "name": "stdout",
     "output_type": "stream",
     "text": [
      "Generation 4 - Current best internal CV score: 0.9495601844270386\n"
     ]
    },
    {
     "name": "stderr",
     "output_type": "stream",
     "text": [
      "GP Progress:  46%|████▌     | 501/1100 [12:45<21:05,  2.11s/pipeline]"
     ]
    },
    {
     "name": "stdout",
     "output_type": "stream",
     "text": [
      "Generation 5 - Current best internal CV score: 0.9495601844270386\n"
     ]
    },
    {
     "name": "stderr",
     "output_type": "stream",
     "text": [
      "GP Progress:  54%|█████▍    | 596/1100 [00:00<01:19,  6.31pipeline/s]"
     ]
    },
    {
     "name": "stdout",
     "output_type": "stream",
     "text": [
      "Generation 6 - Current best internal CV score: 0.950678752659701\n"
     ]
    },
    {
     "name": "stderr",
     "output_type": "stream",
     "text": [
      "GP Progress:  63%|██████▎   | 695/1100 [00:00<02:43,  2.47pipeline/s]"
     ]
    },
    {
     "name": "stdout",
     "output_type": "stream",
     "text": [
      "Generation 7 - Current best internal CV score: 0.9529158891250255\n"
     ]
    },
    {
     "name": "stderr",
     "output_type": "stream",
     "text": [
      "GP Progress:  73%|███████▎  | 801/1100 [16:28<01:18,  3.83pipeline/s]"
     ]
    },
    {
     "name": "stdout",
     "output_type": "stream",
     "text": [
      "Generation 8 - Current best internal CV score: 0.9529158891250255\n"
     ]
    },
    {
     "name": "stderr",
     "output_type": "stream",
     "text": [
      "GP Progress:  80%|████████  | 884/1100 [00:00<02:46,  1.30pipeline/s]"
     ]
    },
    {
     "name": "stdout",
     "output_type": "stream",
     "text": [
      "Generation 9 - Current best internal CV score: 0.9529158891250255\n"
     ]
    },
    {
     "name": "stderr",
     "output_type": "stream",
     "text": [
      "GP Progress:  91%|█████████ | 1001/1100 [19:09<00:31,  3.17pipeline/s]"
     ]
    },
    {
     "name": "stdout",
     "output_type": "stream",
     "text": [
      "Generation 10 - Current best internal CV score: 0.9529158891250255\n"
     ]
    },
    {
     "name": "stderr",
     "output_type": "stream",
     "text": []
    },
    {
     "name": "stdout",
     "output_type": "stream",
     "text": [
      "\n",
      "Best pipeline: LogisticRegression(input_matrix, 0.57999999999999996, 25, False)\n",
      "0.983631993007\n"
     ]
    }
   ],
   "source": [
    "X = hill_valley_noisy_data.drop('class', axis=1).values\n",
    "y = hill_valley_noisy_data.loc[:, 'class'].values\n",
    "\n",
    "X_train, X_test, y_train, y_test = train_test_split(X, y, train_size=0.75, test_size=0.25)\n",
    "\n",
    "my_tpot = TPOTClassifier(generations=10, verbosity=2)\n",
    "my_tpot.fit(X_train, y_train)\n",
    "print(my_tpot.score(X_test, y_test))"
   ]
  }
 ],
 "metadata": {
  "anaconda-cloud": {},
  "kernelspec": {
   "display_name": "Python [default]",
   "language": "python",
   "name": "python3"
  },
  "language_info": {
   "codemirror_mode": {
    "name": "ipython",
    "version": 3
   },
   "file_extension": ".py",
   "mimetype": "text/x-python",
   "name": "python",
   "nbconvert_exporter": "python",
   "pygments_lexer": "ipython3",
   "version": "3.5.2"
  }
 },
 "nbformat": 4,
 "nbformat_minor": 0
}
